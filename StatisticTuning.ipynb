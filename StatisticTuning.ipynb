{
 "cells": [
  {
   "attachments": {},
   "cell_type": "markdown",
   "metadata": {},
   "source": [
    "### Statistic Tuning"
   ]
  },
  {
   "cell_type": "code",
   "execution_count": null,
   "metadata": {},
   "outputs": [],
   "source": [
    "import os\n",
    "import pandas as pd"
   ]
  },
  {
   "cell_type": "code",
   "execution_count": null,
   "metadata": {},
   "outputs": [],
   "source": [
    "tuning_result_file = r\"G:\\AI\\MonPot\\debug\\break_strategy_tuning_config.csv\""
   ]
  },
  {
   "cell_type": "code",
   "execution_count": null,
   "metadata": {},
   "outputs": [],
   "source": [
    "df = pd.read_csv(tuning_result_file, index_col=0)\n",
    "df.head()"
   ]
  },
  {
   "cell_type": "code",
   "execution_count": null,
   "metadata": {},
   "outputs": [],
   "source": [
    "nlargest = df.nlargest(5, \"TOTAL_PnL(%)\")\n",
    "nlargest"
   ]
  },
  {
   "cell_type": "code",
   "execution_count": null,
   "metadata": {},
   "outputs": [],
   "source": [
    "for i, row in nlargest.iterrows():\n",
    "    print(row[\"params\"].replace(\"'\", '\"'), row[\"TOTAL_PnL(%)\"])"
   ]
  },
  {
   "attachments": {},
   "cell_type": "markdown",
   "metadata": {},
   "source": [
    "### PnL Cumulative Visualization"
   ]
  },
  {
   "cell_type": "code",
   "execution_count": null,
   "metadata": {},
   "outputs": [],
   "source": [
    "import os\n",
    "import pandas as pd\n",
    "from pandas import Timestamp\n",
    "from plotly.subplots import make_subplots\n",
    "import plotly.graph_objects as go"
   ]
  },
  {
   "cell_type": "code",
   "execution_count": null,
   "metadata": {},
   "outputs": [],
   "source": [
    "def visualize_PnL(order_paths, names, colors):\n",
    "    fig = make_subplots()\n",
    "    fig.update_layout(\n",
    "        plot_bgcolor=\"#2E4053\",\n",
    "        paper_bgcolor=\"#797D7F\",\n",
    "        font=dict(color=\"#F7F9F9\"),\n",
    "        xaxis=dict(showgrid=False),\n",
    "        yaxis=dict(showgrid=False),\n",
    "    )\n",
    "    for order_path, name, color in zip(order_paths, names, colors):\n",
    "        df_od = pd.read_csv(order_path)\n",
    "        cum_PnL = []\n",
    "        PnL = 0\n",
    "        for i, row in df_od.iterrows():\n",
    "            if row[\"status\"] == \"HIT_SL\":\n",
    "                pnl = round(abs(row[\"sl\"] - row[\"entry\"]) / row[\"entry\"], 4)\n",
    "                if (row[\"side\"] == \"SELL\" and row[\"sl\"] <= row[\"entry\"]) or (\n",
    "                    row[\"side\"] == \"BUY\" and row[\"sl\"] >= row[\"entry\"]\n",
    "                ):\n",
    "                    PnL += pnl * 100\n",
    "                else:\n",
    "                    PnL -= pnl * 100\n",
    "            elif row[\"status\"] == \"HIT_TP\":\n",
    "                PnL += row[\"reward_ratio\"] * 100\n",
    "            elif row[\"status\"] == \"STOPPED\":\n",
    "                PnL += eval(row[\"attrs\"])[\"PnL\"] * 100\n",
    "            cum_PnL.append(PnL)\n",
    "\n",
    "        fig.add_trace(\n",
    "            go.Scatter(x=list(range(len(cum_PnL))), y=cum_PnL, mode=\"lines\", line=dict(color=color, width=2), name=name)\n",
    "        )\n",
    "    return fig\n"
   ]
  },
  {
   "cell_type": "code",
   "execution_count": null,
   "metadata": {},
   "outputs": [],
   "source": [
    "visualize_PnL(\n",
    "    [r\"debug\\XAUUSDm\\XAUUSDm_orders.csv\"],\n",
    "    [\"XAUUSDm\"],\n",
    "    [\"green\"],\n",
    ")\n"
   ]
  },
  {
   "cell_type": "code",
   "execution_count": null,
   "metadata": {},
   "outputs": [],
   "source": []
  }
 ],
 "metadata": {
  "kernelspec": {
   "display_name": "mon_bot",
   "language": "python",
   "name": "python3"
  },
  "language_info": {
   "codemirror_mode": {
    "name": "ipython",
    "version": 3
   },
   "file_extension": ".py",
   "mimetype": "text/x-python",
   "name": "python",
   "nbconvert_exporter": "python",
   "pygments_lexer": "ipython3",
   "version": "3.10.10"
  },
  "orig_nbformat": 4
 },
 "nbformat": 4,
 "nbformat_minor": 2
}
