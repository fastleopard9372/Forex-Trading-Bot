{
 "cells": [
  {
   "cell_type": "code",
   "execution_count": null,
   "metadata": {},
   "outputs": [],
   "source": [
    "from datetime import datetime, timezone\n",
    "import MetaTrader5 as mt5\n"
   ]
  },
  {
   "cell_type": "code",
   "execution_count": null,
   "metadata": {},
   "outputs": [],
   "source": [
    "import os\n",
    "import time\n",
    "import pandas as pd\n",
    "import pprint\n",
    "from plotly.subplots import make_subplots\n",
    "import plotly.graph_objects as go\n"
   ]
  },
  {
   "cell_type": "code",
   "execution_count": null,
   "metadata": {},
   "outputs": [],
   "source": [
    "# connect to MetaTrader 5\n",
    "if not mt5.initialize():\n",
    "    print(\"initialize() failed\")\n",
    "    mt5.shutdown()\n"
   ]
  },
  {
   "cell_type": "code",
   "execution_count": null,
   "metadata": {},
   "outputs": [],
   "source": [
    "# request connection status and parameters\n",
    "pprint.pprint(mt5.terminal_info()._asdict())\n",
    "# get data on MetaTrader 5 version\n",
    "print(mt5.version())\n"
   ]
  },
  {
   "cell_type": "code",
   "execution_count": null,
   "metadata": {},
   "outputs": [],
   "source": [
    "# connect to the trade account specifying a server\n",
    "authorized = mt5.login(122334, server=\"Exness-MT5Trial7\")\n",
    "if authorized:\n",
    "    account_info = mt5.account_info()\n",
    "    if account_info != None:\n",
    "        account_info_dict = account_info._asdict()\n",
    "        # convert the dictionary into DataFrame and print\n",
    "        df = pd.DataFrame(list(account_info_dict.items()), columns=[\"property\", \"value\"])\n",
    "        print(df)\n",
    "else:\n",
    "    print(\"failed to connect to trade account, error code =\", mt5.last_error())\n"
   ]
  },
  {
   "cell_type": "code",
   "execution_count": null,
   "metadata": {},
   "outputs": [],
   "source": [
    "# get bars\n",
    "import calendar\n",
    "\n",
    "symbols = [\"XAUUSDm\", \"GBPUSDm\", \"EURUSDm\", \"EURCADm\"]\n",
    "interval = \"15m\"\n",
    "tf = mt5.TIMEFRAME_M15\n",
    "months = [1, 2, 3, 4, 5]\n",
    "year = 2023\n",
    "\n",
    "for symbol in symbols:\n",
    "    for month in months:\n",
    "        from_date = datetime(year, month, 1).replace(tzinfo=timezone.utc).timestamp()\n",
    "        to_date = datetime(year, month, calendar.monthrange(year, month)[1]).replace(tzinfo=timezone.utc).timestamp()\n",
    "\n",
    "        df = mt5.copy_rates_range(symbol, tf, from_date, to_date)\n",
    "        df = pd.DataFrame(df)\n",
    "        df[\"time\"] += -time.timezone\n",
    "        df[\"time\"] = pd.to_datetime(df[\"time\"], unit=\"s\")\n",
    "        print(\"{}, from: {} to: {}\".format(symbol, df.iloc[0][\"time\"], df.iloc[-1][\"time\"]))\n",
    "\n",
    "        df.columns = [\"Open time\", \"Open\", \"High\", \"Low\", \"Close\", \"Volume\", \"Spread\", \"Real_Volume\"]\n",
    "        df = df[[\"Open time\", \"Open\", \"High\", \"Low\", \"Close\", \"Volume\"]]\n",
    "        filename = \"{}-{}-{}-{:02d}\".format(symbol, interval, year, month)\n",
    "        df.to_csv(r\"G:\\AI\\MT5\\{}.csv\".format(filename), index=0)"
   ]
  },
  {
   "cell_type": "code",
   "execution_count": null,
   "metadata": {},
   "outputs": [],
   "source": []
  }
 ],
 "metadata": {
  "kernelspec": {
   "display_name": "mon_bot",
   "language": "python",
   "name": "python3"
  },
  "language_info": {
   "codemirror_mode": {
    "name": "ipython",
    "version": 3
   },
   "file_extension": ".py",
   "mimetype": "text/x-python",
   "name": "python",
   "nbconvert_exporter": "python",
   "pygments_lexer": "ipython3",
   "version": "3.10.11"
  },
  "orig_nbformat": 4
 },
 "nbformat": 4,
 "nbformat_minor": 2
}
